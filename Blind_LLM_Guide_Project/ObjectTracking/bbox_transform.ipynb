{
 "cells": [
  {
   "cell_type": "code",
   "execution_count": null,
   "metadata": {},
   "outputs": [],
   "source": []
  },
  {
   "cell_type": "markdown",
   "metadata": {},
   "source": []
  },
  {
   "cell_type": "code",
   "execution_count": 2,
   "metadata": {},
   "outputs": [],
   "source": [
    "import json\n",
    "import os\n",
    "\n",
    "def mot_to_json(input_file):\n",
    "    # Create a dictionary to store the JSON structure\n",
    "    result = {}\n",
    "\n",
    "    with open(input_file, 'r') as f:\n",
    "        for line in f:\n",
    "            # Split and parse the line\n",
    "            frame, obj_id, bb_left, bb_top, bb_width, bb_height, _, _, _, _ = line.strip().split(',')\n",
    "            frame = str(int(frame)).zfill(4)  # Format frame number as 4-digit string\n",
    "            obj_id = str(int(obj_id))\n",
    "\n",
    "            # Create bounding box in the [left, top, right, bottom] format\n",
    "            bbox = [\n",
    "                float(bb_left),\n",
    "                float(bb_top),\n",
    "                float(bb_left) + float(bb_width),\n",
    "                float(bb_top) + float(bb_height)\n",
    "            ]\n",
    "\n",
    "            # Insert data into the result dictionary\n",
    "            if frame not in result:\n",
    "                result[frame] = {\"person\": {}, \"car\": {}}\n",
    "            result[frame][\"person\"][obj_id] = bbox\n",
    "\n",
    "    # Write the result to a JSON file\n",
    "    output_file = \"bbox_\" + input_file.split('/')[-1].replace('.txt', '.json')\n",
    "    with open(output_file, 'w') as jf:\n",
    "        json.dump(result, jf, indent=4)\n",
    "\n",
    "    print(f\"Saved result to {output_file}\")\n",
    "\n",
    "\n",
    "# Example usage\n",
    "# input_file = 'txt_archive/b1c9c847-3bda4659.txt'\n",
    "# mot_to_json(input_file)\n"
   ]
  },
  {
   "cell_type": "code",
   "execution_count": 3,
   "metadata": {},
   "outputs": [
    {
     "name": "stdout",
     "output_type": "stream",
     "text": [
      "Saved result to bbox_txt_archive\\video_0001.json\n",
      "Saved result to bbox_txt_archive\\video_0003.json\n",
      "Saved result to bbox_txt_archive\\video_0055.json\n",
      "Saved result to bbox_txt_archive\\video_0056.json\n",
      "Saved result to bbox_txt_archive\\video_0057.json\n",
      "Saved result to bbox_txt_archive\\video_0194.json\n",
      "Saved result to bbox_txt_archive\\video_0310.json\n",
      "Saved result to bbox_txt_archive\\video_0313.json\n",
      "Saved result to bbox_txt_archive\\video_0333.json\n",
      "Saved result to bbox_txt_archive\\video_0343.json\n"
     ]
    }
   ],
   "source": [
    "\n",
    "def process_txt_archive(txt_folder):\n",
    "    # Iterate over all files in the txt_archive folder\n",
    "    for filename in os.listdir(txt_folder):\n",
    "        if filename.endswith(\".txt\"):\n",
    "            input_file = os.path.join(txt_folder, filename)\n",
    "\n",
    "            mot_to_json(input_file)\n",
    "\n",
    "process_txt_archive('txt_archive')"
   ]
  }
 ],
 "metadata": {
  "kernelspec": {
   "display_name": "base",
   "language": "python",
   "name": "python3"
  },
  "language_info": {
   "codemirror_mode": {
    "name": "ipython",
    "version": 3
   },
   "file_extension": ".py",
   "mimetype": "text/x-python",
   "name": "python",
   "nbconvert_exporter": "python",
   "pygments_lexer": "ipython3",
   "version": "3.9.12"
  },
  "orig_nbformat": 4
 },
 "nbformat": 4,
 "nbformat_minor": 2
}
