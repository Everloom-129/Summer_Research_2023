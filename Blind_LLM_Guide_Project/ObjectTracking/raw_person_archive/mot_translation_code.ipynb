{
 "cells": [
  {
   "cell_type": "code",
   "execution_count": 2,
   "metadata": {},
   "outputs": [
    {
     "name": "stdout",
     "output_type": "stream",
     "text": [
      "b1c9c847-3bda4659.txt\n",
      "b1d10d08-c35503b8.txt\n",
      "b1d22ed6-f1cac061.txt\n",
      "b1dac7f7-6b2e0382.txt\n",
      "b1f4491b-33824f31.txt\n",
      "b1f4491b-9958bd99.txt\n",
      "b2ae0446-4b0bfda7.txt\n",
      "b2be7200-b6f7fe0a.txt\n",
      "b2bee3e1-80c787bd.txt\n",
      "b2d22b2f-8302eb61.txt\n",
      "b2d502aa-f0b28e3e.txt\n",
      "b4542860-0b880bb4.txt\n",
      "cd09a73f-5f6b9212.txt\n",
      "cd17ff29-f393274e.txt\n",
      "cd26264b-22001629.txt\n"
     ]
    }
   ],
   "source": [
    "import os\n",
    "import pandas as pd\n",
    "\n",
    "def translate_to_natural_language(df):\n",
    "    natural_language_sentences = []\n",
    "    class_id_to_name = {-1: \"person\", 2: \"car\", 3: \"motorcycle\", 5: \"bus\", 7: \"truck\"}\n",
    "\n",
    "    for frame, group in df.groupby('Frame'):\n",
    "        frame_sentences = []\n",
    "        for _, row in group.iterrows():\n",
    "            object_name = class_id_to_name[row['Class_ID']]\n",
    "            sentence = f\"At frame {int(row['Frame'])}, {object_name} {int(row['Object_ID'])} is located at coordinates [{row['BB_Left']:.2f}, {row['BB_Top']:.2f}] with a bounding box of width {row['BB_Width']:.2f} and height {row['BB_Height']:.2f}.\\n\"\n",
    "            frame_sentences.append(sentence)\n",
    "        \n",
    "        natural_language_sentences.append(\"\".join(frame_sentences))\n",
    "    \n",
    "    return \"\".join(natural_language_sentences)\n",
    "\n",
    "\n",
    "def read_and_translate_mot_files(input_folder, output_folder):\n",
    "    if not os.path.exists(output_folder):\n",
    "        os.makedirs(output_folder)\n",
    "        \n",
    "    for filename in os.listdir(input_folder):\n",
    "        if filename.endswith('.txt'):\n",
    "            print(filename)\n",
    "            file_path = os.path.join(input_folder, filename)\n",
    "            lines = []\n",
    "            with open(file_path, 'r') as file:\n",
    "                lines = file.readlines()\n",
    "            if not lines:\n",
    "                print(f\"no detected obj in current video:{file_path}\")\n",
    "                return\n",
    "                \n",
    "            parsed_data = []\n",
    "            for line in lines:\n",
    "                frame, object_id, bb_left, bb_top, bb_right, bb_bottom, conf, class_id, _, _ = map(float, line.strip().split(\",\"))\n",
    "                parsed_data.append({\n",
    "                    'Frame': int(frame),\n",
    "                    'Object_ID': int(object_id),\n",
    "                    'BB_Left': bb_left,\n",
    "                    'BB_Top': bb_top,\n",
    "                    'BB_Width': bb_right,\n",
    "                    'BB_Height': bb_bottom,\n",
    "                    'Class_ID': int(class_id)\n",
    "                })\n",
    "                \n",
    "            df_mot = pd.DataFrame(parsed_data)\n",
    "            translated_text = translate_to_natural_language(df_mot)\n",
    "\n",
    "\n",
    "            output_file_path = os.path.join(output_folder, f\"mot_{filename}\")\n",
    "            with open(output_file_path, 'w') as file:\n",
    "                file.write(translated_text)\n",
    "\n",
    "read_and_translate_mot_files(\"./BDD\",\"mot_archive/\")\n"
   ]
  },
  {
   "cell_type": "code",
   "execution_count": null,
   "metadata": {},
   "outputs": [],
   "source": []
  },
  {
   "cell_type": "markdown",
   "metadata": {},
   "source": [
    "split for better readability"
   ]
  },
  {
   "cell_type": "code",
   "execution_count": 11,
   "metadata": {},
   "outputs": [],
   "source": []
  }
 ],
 "metadata": {
  "kernelspec": {
   "display_name": "base",
   "language": "python",
   "name": "python3"
  },
  "language_info": {
   "codemirror_mode": {
    "name": "ipython",
    "version": 3
   },
   "file_extension": ".py",
   "mimetype": "text/x-python",
   "name": "python",
   "nbconvert_exporter": "python",
   "pygments_lexer": "ipython3",
   "version": "3.9.12"
  },
  "orig_nbformat": 4
 },
 "nbformat": 4,
 "nbformat_minor": 2
}
